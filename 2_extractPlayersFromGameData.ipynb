{
 "cells": [
  {
   "cell_type": "markdown",
   "metadata": {},
   "source": [
    "# Extract players in a game\n",
    "The aim of this notebook is to identify the players that played a specific game. This data is not directly available in any of the two data sources(Kaggle and CMU dataset), but Kaggle has play by play data of each game which has the record of each point scored, any blocks or steals done by a player in a game. We parse these records and identify the unique players in each game."
   ]
  },
  {
   "cell_type": "code",
   "execution_count": 2,
   "metadata": {},
   "outputs": [],
   "source": [
    "import pandas as pd"
   ]
  },
  {
   "cell_type": "code",
   "execution_count": 3,
   "metadata": {},
   "outputs": [],
   "source": [
    "def combinePlayerTeam(row, playerCol, teamCol):\n",
    "    return [str(row[playerCol][i])+\"_\"+str(row[teamCol][i]) for i in range(0,len(row[teamCol]))]\n",
    "\n",
    "def getPlayerInGame(pbp):\n",
    "    df = pbp.groupby('game_id').agg({'player1_id': list, 'player1_team_abbreviation': list, 'player2_id': list, 'player2_team_abbreviation': list, 'player3_id': list, 'player3_team_abbreviation': list})\n",
    "    df[\"combined\"] = df.apply(lambda x: list(set(combinePlayerTeam(x, \"player1_id\", \"player1_team_abbreviation\") + combinePlayerTeam(x, \"player2_id\", \"player2_team_abbreviation\") +combinePlayerTeam(x, \"player3_id\", \"player3_team_abbreviation\"))), axis=1)\n",
    "    df = df.explode(\"combined\")\n",
    "    df[\"player_id\"] = df.apply(lambda x: x[\"combined\"].split(\"_\")[0], axis = 1)\n",
    "    df[\"team_id\"] = df.apply(lambda x: x[\"combined\"].split(\"_\")[1], axis = 1)\n",
    "\n",
    "    return df[[\"player_id\",\"team_id\"]]\n",
    "\n",
    "gameToPlayerChunks = []\n",
    "count = 1\n",
    "\n",
    "#Processing data in chunks, our machines cant process this amount of data at once.\n",
    "for df in pd.read_csv('Kaggle Data/play_by_play.csv', chunksize=10000):\n",
    "    if count % 100 == 0:\n",
    "        chunk = pd.concat(gameToPlayerChunks)\n",
    "        chunk.to_csv(\"Chunks/chunk_\"+str(count/100)+\".csv\")\n",
    "    count+=1\n",
    "    gameToPlayerChunks.append(getPlayerInGame(df))\n",
    "gameToPlayer = pd.concat(gameToPlayerChunks)\n",
    "gameToPlayer.head()"
   ]
  },
  {
   "cell_type": "code",
   "execution_count": 6,
   "metadata": {},
   "outputs": [],
   "source": [
    "gameToPlayer.to_csv(\"gameToPlayer.csv\")"
   ]
  }
 ],
 "metadata": {
  "kernelspec": {
   "display_name": "Python 3",
   "language": "python",
   "name": "python3"
  },
  "language_info": {
   "codemirror_mode": {
    "name": "ipython",
    "version": 3
   },
   "file_extension": ".py",
   "mimetype": "text/x-python",
   "name": "python",
   "nbconvert_exporter": "python",
   "pygments_lexer": "ipython3",
   "version": "3.11.8"
  }
 },
 "nbformat": 4,
 "nbformat_minor": 2
}
