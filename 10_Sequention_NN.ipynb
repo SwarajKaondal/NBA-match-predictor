{
  "nbformat": 4,
  "nbformat_minor": 0,
  "metadata": {
    "colab": {
      "provenance": []
    },
    "kernelspec": {
      "name": "python3",
      "display_name": "Python 3"
    },
    "language_info": {
      "name": "python"
    }
  },
  "cells": [
    {
      "cell_type": "code",
      "execution_count": 1,
      "metadata": {
        "id": "WD2D2f7m1vT4"
      },
      "outputs": [],
      "source": [
        "import pandas as pd\n",
        "from sklearn.preprocessing import StandardScaler\n",
        "\n",
        "games = pd.read_csv(\"prev_year_team_attr_by_game.csv\", index_col=0)"
      ]
    },
    {
      "cell_type": "code",
      "source": [
        "\n",
        "games[\"t1_fg\"] = games[\"t1_fgm\"]/games[\"t1_fga\"]\n",
        "games[\"t2_fg\"] = games[\"t2_fgm\"]/games[\"t2_fga\"]\n",
        "\n",
        "games[\"t1_ft\"] = games[\"t1_ftm\"]/games[\"t1_fta\"]\n",
        "games[\"t2_ft\"] = games[\"t2_ftm\"]/games[\"t2_fta\"]\n",
        "\n",
        "games[\"t1_tp\"] = games[\"t1_tpm\"]/games[\"t1_tpa\"]\n",
        "games[\"t2_tp\"] = games[\"t2_tpm\"]/games[\"t2_tpa\"]\n",
        "\n",
        "games.drop('t1_fgm', axis=1, inplace=True)\n",
        "games.drop('t1_fga', axis=1, inplace=True)\n",
        "\n",
        "games.drop('t2_fgm', axis=1, inplace=True)\n",
        "games.drop('t2_fga', axis=1, inplace=True)\n",
        "\n",
        "\n",
        "games.drop('t1_ftm', axis=1, inplace=True)\n",
        "games.drop('t1_fta', axis=1, inplace=True)\n",
        "\n",
        "games.drop('t2_ftm', axis=1, inplace=True)\n",
        "games.drop('t2_fta', axis=1, inplace=True)\n",
        "\n",
        "\n",
        "games.drop('t1_tpm', axis=1, inplace=True)\n",
        "games.drop('t1_tpa', axis=1, inplace=True)\n",
        "\n",
        "games.drop('t2_tpm', axis=1, inplace=True)\n",
        "games.drop('t2_tpa', axis=1, inplace=True)\n",
        "\n",
        "games.drop('t1_reb', axis=1, inplace=True)\n",
        "games.drop('t2_reb', axis=1, inplace=True)\n"
      ],
      "metadata": {
        "id": "2kDvD4fY1ymG"
      },
      "execution_count": 2,
      "outputs": []
    },
    {
      "cell_type": "code",
      "source": [
        "y = games[\"winner\"]\n",
        "\n",
        "\n",
        "games.drop('winner', axis=1, inplace=True)\n",
        "games.drop('t1_team_ilkid', axis=1, inplace=True)\n",
        "games.drop('t2_team_ilkid', axis=1, inplace=True)\n",
        "\n",
        "X = games[games.columns[2:]]\n",
        "\n",
        "scaler = StandardScaler()\n",
        "scaled_data = scaler.fit_transform(X)\n",
        "X = pd.DataFrame(scaled_data, columns=X.columns)\n",
        "\n",
        "X.fillna(0, inplace=True)"
      ],
      "metadata": {
        "id": "evqjrxcc121C"
      },
      "execution_count": 3,
      "outputs": []
    },
    {
      "cell_type": "code",
      "source": [
        "from sklearn.neural_network import MLPClassifier\n",
        "from sklearn.model_selection import train_test_split\n",
        "from sklearn.metrics import accuracy_score\n",
        "from sklearn.metrics import confusion_matrix\n",
        "from sklearn.metrics import classification_report\n",
        "\n",
        "X_train, X_test, y_train, y_test = train_test_split(X, y, test_size=0.2)"
      ],
      "metadata": {
        "id": "vUHVhgDq135h"
      },
      "execution_count": 4,
      "outputs": []
    },
    {
      "cell_type": "code",
      "source": [
        "from keras.models import Sequential\n",
        "from keras.layers import Dense\n",
        "\n",
        "model = Sequential([\n",
        "    Dense(68, activation='relu', input_shape=(X_train.shape[1],)),\n",
        "    Dense(34, activation='relu'),\n",
        "    Dense(1, activation='sigmoid')\n",
        "])\n",
        "\n",
        "model.compile(optimizer='adam', loss='binary_crossentropy', metrics=['accuracy'])\n",
        "\n",
        "# Train the model\n",
        "history = model.fit(X_train, y_train, epochs=15, batch_size=32, validation_split=0.2)\n",
        "\n",
        "# Evaluate the model\n",
        "train_loss, train_accuracy = model.evaluate(X_train, y_train)\n",
        "print(f'Loss: {train_loss}, Accuracy: {train_accuracy}')\n",
        "\n",
        "y_pred = model.predict(X_test)\n",
        "y_pred_binary = (y_pred > 0.5).astype(int)\n",
        "accuracy = accuracy_score(y_test, y_pred_binary)\n",
        "conf_matrix = confusion_matrix(y_test, y_pred_binary)\n",
        "print(\"Test Accuracy = \", accuracy)\n",
        "print(classification_report(y_test,y_pred_binary))"
      ],
      "metadata": {
        "colab": {
          "base_uri": "https://localhost:8080/"
        },
        "id": "BH7FRd2s16YP",
        "outputId": "1acbc0f7-31be-4f9c-fc43-2c441f09b6ec"
      },
      "execution_count": 9,
      "outputs": [
        {
          "output_type": "stream",
          "name": "stdout",
          "text": [
            "Epoch 1/15\n",
            "200/200 [==============================] - 3s 6ms/step - loss: 0.6662 - accuracy: 0.5942 - val_loss: 0.6416 - val_accuracy: 0.6334\n",
            "Epoch 2/15\n",
            "200/200 [==============================] - 0s 2ms/step - loss: 0.6408 - accuracy: 0.6275 - val_loss: 0.6405 - val_accuracy: 0.6146\n",
            "Epoch 3/15\n",
            "200/200 [==============================] - 0s 2ms/step - loss: 0.6324 - accuracy: 0.6361 - val_loss: 0.6338 - val_accuracy: 0.6277\n",
            "Epoch 4/15\n",
            "200/200 [==============================] - 0s 2ms/step - loss: 0.6255 - accuracy: 0.6452 - val_loss: 0.6356 - val_accuracy: 0.6303\n",
            "Epoch 5/15\n",
            "200/200 [==============================] - 1s 3ms/step - loss: 0.6213 - accuracy: 0.6455 - val_loss: 0.6354 - val_accuracy: 0.6309\n",
            "Epoch 6/15\n",
            "200/200 [==============================] - 1s 4ms/step - loss: 0.6171 - accuracy: 0.6570 - val_loss: 0.6393 - val_accuracy: 0.6277\n",
            "Epoch 7/15\n",
            "200/200 [==============================] - 1s 5ms/step - loss: 0.6112 - accuracy: 0.6633 - val_loss: 0.6346 - val_accuracy: 0.6309\n",
            "Epoch 8/15\n",
            "200/200 [==============================] - 1s 4ms/step - loss: 0.6085 - accuracy: 0.6571 - val_loss: 0.6381 - val_accuracy: 0.6372\n",
            "Epoch 9/15\n",
            "200/200 [==============================] - 1s 4ms/step - loss: 0.6039 - accuracy: 0.6661 - val_loss: 0.6404 - val_accuracy: 0.6353\n",
            "Epoch 10/15\n",
            "200/200 [==============================] - 1s 3ms/step - loss: 0.5977 - accuracy: 0.6705 - val_loss: 0.6466 - val_accuracy: 0.6215\n",
            "Epoch 11/15\n",
            "200/200 [==============================] - 0s 2ms/step - loss: 0.5955 - accuracy: 0.6717 - val_loss: 0.6439 - val_accuracy: 0.6347\n",
            "Epoch 12/15\n",
            "200/200 [==============================] - 1s 3ms/step - loss: 0.5887 - accuracy: 0.6799 - val_loss: 0.6493 - val_accuracy: 0.6259\n",
            "Epoch 13/15\n",
            "200/200 [==============================] - 0s 2ms/step - loss: 0.5842 - accuracy: 0.6898 - val_loss: 0.6499 - val_accuracy: 0.6290\n",
            "Epoch 14/15\n",
            "200/200 [==============================] - 1s 3ms/step - loss: 0.5805 - accuracy: 0.6874 - val_loss: 0.6515 - val_accuracy: 0.6202\n",
            "Epoch 15/15\n",
            "200/200 [==============================] - 0s 2ms/step - loss: 0.5766 - accuracy: 0.6937 - val_loss: 0.6535 - val_accuracy: 0.6240\n",
            "249/249 [==============================] - 0s 2ms/step - loss: 0.5795 - accuracy: 0.6908\n",
            "Loss: 0.5795493125915527, Accuracy: 0.690820038318634\n",
            "63/63 [==============================] - 0s 1ms/step\n",
            "Test Accuracy =  0.6137619286790558\n",
            "              precision    recall  f1-score   support\n",
            "\n",
            "           0       0.66      0.60      0.63      1082\n",
            "           1       0.57      0.63      0.60       909\n",
            "\n",
            "    accuracy                           0.61      1991\n",
            "   macro avg       0.61      0.62      0.61      1991\n",
            "weighted avg       0.62      0.61      0.61      1991\n",
            "\n"
          ]
        }
      ]
    },
    {
      "cell_type": "code",
      "source": [
        "conf_matrix"
      ],
      "metadata": {
        "colab": {
          "base_uri": "https://localhost:8080/"
        },
        "id": "Pkb9PEuI2Bn6",
        "outputId": "a3c8d929-5c71-481b-90de-d6babd64b082"
      },
      "execution_count": 10,
      "outputs": [
        {
          "output_type": "execute_result",
          "data": {
            "text/plain": [
              "array([[646, 436],\n",
              "       [333, 576]])"
            ]
          },
          "metadata": {},
          "execution_count": 10
        }
      ]
    },
    {
      "cell_type": "code",
      "source": [],
      "metadata": {
        "id": "xq70VMnU3Bnt"
      },
      "execution_count": null,
      "outputs": []
    }
  ]
}