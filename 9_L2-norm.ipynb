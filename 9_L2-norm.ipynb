{
  "nbformat": 4,
  "nbformat_minor": 0,
  "metadata": {
    "colab": {
      "provenance": []
    },
    "kernelspec": {
      "name": "python3",
      "display_name": "Python 3"
    },
    "language_info": {
      "name": "python"
    }
  },
  "cells": [
    {
      "cell_type": "code",
      "execution_count": 20,
      "metadata": {
        "id": "0-DNAEvdvBal"
      },
      "outputs": [],
      "source": [
        "import pandas as pd\n",
        "from sklearn.preprocessing import StandardScaler\n",
        "import numpy as np\n",
        "games = pd.read_csv(\"prev_year_team_attr_by_game.csv\", index_col=0)"
      ]
    },
    {
      "cell_type": "code",
      "source": [
        "def getL2Norm(arr):\n",
        "  return np.linalg.norm(arr)"
      ],
      "metadata": {
        "id": "bN2IfFtxvQG2"
      },
      "execution_count": 21,
      "outputs": []
    },
    {
      "cell_type": "code",
      "source": [
        "y_test = games[\"winner\"]"
      ],
      "metadata": {
        "id": "IVnE22vIvr81"
      },
      "execution_count": 22,
      "outputs": []
    },
    {
      "cell_type": "code",
      "source": [
        "count = 0\n",
        "y_pred = []\n",
        "for i, row in games.iterrows():\n",
        "  t1_score = getL2Norm(row[2:19])\n",
        "  t2_score = getL2Norm(row[19:36])\n",
        "  winner = row[-1]\n",
        "  if t1_score > t2_score:\n",
        "    y_pred.append(0)\n",
        "  else:\n",
        "    y_pred.append(1)\n",
        "\n",
        "# print(\"Accuracy = \",count/len(games.index))"
      ],
      "metadata": {
        "id": "lK_7nhcavjpy"
      },
      "execution_count": 23,
      "outputs": []
    },
    {
      "cell_type": "code",
      "source": [
        "len(y_pred)\n",
        "len(y_test)"
      ],
      "metadata": {
        "colab": {
          "base_uri": "https://localhost:8080/"
        },
        "id": "7s9QIq2Xw1Q_",
        "outputId": "c101f116-e027-4e59-d113-ef28c6e99c6b"
      },
      "execution_count": 24,
      "outputs": [
        {
          "output_type": "execute_result",
          "data": {
            "text/plain": [
              "9954"
            ]
          },
          "metadata": {},
          "execution_count": 24
        }
      ]
    },
    {
      "cell_type": "code",
      "source": [
        "from sklearn.metrics import confusion_matrix\n",
        "from sklearn.metrics import classification_report\n",
        "\n",
        "conf_matrix = confusion_matrix(y_test, y_pred)\n",
        "# print(\"Test Accuracy = \", accuracy)\n",
        "print(classification_report(y_test,y_pred))"
      ],
      "metadata": {
        "colab": {
          "base_uri": "https://localhost:8080/"
        },
        "id": "O5s_VXpKwMmU",
        "outputId": "1ddcde79-bbf2-47a0-aec9-19fbebef880b"
      },
      "execution_count": 25,
      "outputs": [
        {
          "output_type": "stream",
          "name": "stdout",
          "text": [
            "              precision    recall  f1-score   support\n",
            "\n",
            "           0       0.61      0.56      0.58      5294\n",
            "           1       0.54      0.58      0.56      4660\n",
            "\n",
            "    accuracy                           0.57      9954\n",
            "   macro avg       0.57      0.57      0.57      9954\n",
            "weighted avg       0.58      0.57      0.57      9954\n",
            "\n"
          ]
        }
      ]
    },
    {
      "cell_type": "code",
      "source": [
        "conf_matrix"
      ],
      "metadata": {
        "colab": {
          "base_uri": "https://localhost:8080/"
        },
        "id": "u73SPV9TwyQ4",
        "outputId": "01f4997f-9933-4113-c21f-391e979d285f"
      },
      "execution_count": 26,
      "outputs": [
        {
          "output_type": "execute_result",
          "data": {
            "text/plain": [
              "array([[2987, 2307],\n",
              "       [1941, 2719]])"
            ]
          },
          "metadata": {},
          "execution_count": 26
        }
      ]
    },
    {
      "cell_type": "code",
      "source": [],
      "metadata": {
        "id": "h-uaXotryAcy"
      },
      "execution_count": null,
      "outputs": []
    }
  ]
}