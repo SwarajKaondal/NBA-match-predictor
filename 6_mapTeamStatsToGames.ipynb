{
 "cells": [
  {
   "cell_type": "markdown",
   "metadata": {},
   "source": [
    "# Calculate team statistics for games\n",
    "In this notebook we use the cumilative statistics of each player in a team to calculate the team statistics for every game. We can then use this data to train our models. The input will be the statistics of the individual team and the target will the be the winning team index."
   ]
  },
  {
   "cell_type": "code",
   "execution_count": 4,
   "metadata": {},
   "outputs": [],
   "source": [
    "import pandas as pd\n",
    "\n",
    "games = pd.read_csv(\"player_with_game_id.csv\")\n",
    "playerStats = pd.read_csv(\"cumilative_player_attributes.csv\")"
   ]
  },
  {
   "cell_type": "code",
   "execution_count": 5,
   "metadata": {},
   "outputs": [],
   "source": [
    "games['year'] = games.apply(lambda x: int(x['game_date'][0:4]), axis=1)\n",
    "gameWithPlayerStats = pd.merge(games, playerStats, on=[\"ilkid\", \"year\"], how='inner')"
   ]
  },
  {
   "cell_type": "code",
   "execution_count": 6,
   "metadata": {},
   "outputs": [],
   "source": [
    "def getTeamAttributes(game, teams, columns):\n",
    "    teamAttributes = {}\n",
    "    teamIndex = ['t1','t2']\n",
    "    teamAttributes['game_id'] = game.iloc[0]['game_id']\n",
    "    teamAttributes['game_date'] = game.iloc[0]['game_date']\n",
    "     \n",
    "    for i in range(len(teams)):\n",
    "        for col in columns:\n",
    "            teamAttributes[teamIndex[i]+\"_\"+col] = game[(game[\"team_id_x\"] == teams[i])][col].mean()\n",
    "    teamAttributes[\"t1_team_ilkid\"] = game[(game[\"team_id_x\"] == teams[0])][\"ilkid\"].tolist()\n",
    "    teamAttributes[\"t2_team_ilkid\"] = game[(game[\"team_id_x\"] == teams[1])][\"ilkid\"].tolist()\n",
    "\n",
    "    if game.iloc[0][\"winning_team_abbr\"] == teams[0]:\n",
    "        teamAttributes[\"winner\"] = 0\n",
    "    else:\n",
    "        teamAttributes[\"winner\"] = 1\n",
    "    \n",
    "    return teamAttributes\n",
    "\n",
    "columns = ['avg_gp','avg_minutes','avg_pts','avg_oreb','avg_dreb','avg_reb','avg_asts','avg_stl','avg_blk','avg_turnover','avg_pf','avg_fga','avg_fgm','avg_fta','avg_ftm','avg_tpa','avg_tpm']\n",
    "aggregatedGame = pd.DataFrame(columns=['game_id', 'game_date', 't1_team_ilkid','t1_gp', 't1_minutes', 't1_pts','t1_oreb','t1_dreb','t1_reb','t1_asts','t1_stl','t1_blk','t1_turnover','t1_pf', 't1_fga', 't1_fgm', 't1_fta', 't1_ftm', 't1_tpa', 't1_tpm',\n",
    "                                       't2_team_ilkid','t2_gp', 't2_minutes', 't2_pts','t2_oreb','t2_dreb','t2_reb','t2_asts','t2_stl','t2_blk','t2_turnover','t2_pf', 't2_fga', 't2_fgm', 't2_fta', 't2_ftm', 't2_tpa', 't2_tpm','winner'])\n",
    "invalidGameIds = []\n",
    "rows = []\n",
    "for game_id in gameWithPlayerStats[\"game_id\"].unique():\n",
    "    gameDetails = gameWithPlayerStats[gameWithPlayerStats[\"game_id\"] == game_id]\n",
    "    teams = gameDetails[\"team_id_x\"].unique().tolist()\n",
    "    if len(teams) != 2:\n",
    "        invalidGameIds.append(game_id)\n",
    "        continue\n",
    "    rows.append(getTeamAttributes(gameDetails, teams, columns))\n",
    "\n",
    "aggregatedGame = pd.DataFrame(rows)"
   ]
  },
  {
   "cell_type": "code",
   "execution_count": 7,
   "metadata": {},
   "outputs": [],
   "source": [
    "aggregatedGame.to_csv(\"avg_team_attr_by_game.csv\")"
   ]
  }
 ],
 "metadata": {
  "kernelspec": {
   "display_name": "Python 3",
   "language": "python",
   "name": "python3"
  },
  "language_info": {
   "codemirror_mode": {
    "name": "ipython",
    "version": 3
   },
   "file_extension": ".py",
   "mimetype": "text/x-python",
   "name": "python",
   "nbconvert_exporter": "python",
   "pygments_lexer": "ipython3",
   "version": "3.11.8"
  }
 },
 "nbformat": 4,
 "nbformat_minor": 2
}
